{
 "cells": [
  {
   "cell_type": "code",
   "execution_count": null,
   "metadata": {},
   "outputs": [],
   "source": [
    "import numpy as np\n",
    "rnd = np.random.randint(1,11)\n",
    "print(rnd)"
   ]
  },
  {
   "cell_type": "code",
   "execution_count": null,
   "metadata": {},
   "outputs": [],
   "source": [
    "import ipywidgets as wdg\n",
    "import matplotlib.pyplot as plt"
   ]
  },
  {
   "cell_type": "code",
   "execution_count": null,
   "metadata": {},
   "outputs": [],
   "source": [
    "my_string = \"Awesome day\"\n",
    "print(my_string[0:6:2])"
   ]
  },
  {
   "cell_type": "code",
   "execution_count": null,
   "metadata": {},
   "outputs": [],
   "source": [
    "# Importing Data example\n",
    "cars = pd.read_csv('cars.csv')\n",
    "\n",
    "# Print out cars\n",
    "print(cars)\n",
    "\n",
    "cars.index = row_labels\n",
    "\n",
    "\n",
    "reordered_cars = reordered_cars = cars[['cars_per_cap', 'country', 'drives_right']]\n",
    "print(reordered_cars)"
   ]
  },
  {
   "cell_type": "markdown",
   "metadata": {},
   "source": []
  },
  {
   "cell_type": "code",
   "execution_count": null,
   "metadata": {},
   "outputs": [],
   "source": [
    "# iterators\n",
    "import pandas as pd\n",
    "brics = pd.read_csv(\"brics.csv\")\n",
    "for index, row in brics.iterrows():\n",
    "    print(f\"The population of {row['country']} is {row['population']} million!\")"
   ]
  },
  {
   "cell_type": "markdown",
   "metadata": {},
   "source": [
    "## markdown notes:\n",
    "```markdown\n",
    "## How to Restart the Kernel\n",
    "\n",
    "Restarting the kernel in Jupyter Notebook can be useful if you want to reset the environment and clear all variables and imports. Here are the steps to restart the kernel:\n",
    "\n",
    "1. **Using the Toolbar:**\n",
    "    - Click on the `Kernel` menu at the top of the notebook.\n",
    "    - Select `Restart` to restart the kernel.\n",
    "\n",
    "2. **Using Keyboard Shortcuts:**\n",
    "    - Press `0 0` (zero key twice) to restart the kernel.\n",
    "\n",
    "3. **Using the Command Palette:**\n",
    "    - Press `Ctrl + Shift + P` (Windows/Linux) or `Cmd + Shift + P` (macOS) to open the Command Palette.\n",
    "    - Type `Restart Kernel` and select the `Restart Kernel` option.\n",
    "\n",
    "Restarting the kernel will clear all the variables and imports, and you will need to re-run the cells to re-import the libraries and re-define the variables.\n",
    "```"
   ]
  },
  {
   "cell_type": "markdown",
   "metadata": {},
   "source": [
    "#### helpfull tips:\n",
    "\n",
    "To open a new tab in Visual Studio Code, you can use the following methods:\n",
    "\n",
    "1. **Using the Menu:**\n",
    "    - Go to `File` > `New File`.\n",
    "\n",
    "2. **Using Keyboard Shortcuts:**\n",
    "    - On Windows/Linux: Press `Ctrl + N`.\n",
    "    - On macOS: Press `Cmd + N`.\n",
    "\n",
    "3. **Using the Command Palette:**\n",
    "    - Press `Ctrl + Shift + P` (Windows/Linux) or `Cmd + Shift + P` (macOS) to open the Command Palette.\n",
    "    - Type `New File` and select the `File: New File` option.\n",
    "\n",
    "These methods will open a new tab where you can start writing your code."
   ]
  },
  {
   "cell_type": "code",
   "execution_count": null,
   "metadata": {},
   "outputs": [],
   "source": [
    "# Pre-defined lists\n",
    "names = ['United States', 'Australia', 'Japan', 'India', 'Russia', 'Morocco', 'Egypt']\n",
    "dr =  [True, False, False, False, True, True, True]\n",
    "cpc = [809, 731, 588, 18, 200, 70, 45]\n",
    "\n",
    "# Create dictionary my_dict with three key:value pairs: my_dict\n",
    "my_dict = {'country':names,'drives_right':dr,'cars_per_cap':cpc} \n",
    "\n",
    "# Build a DataFrame cars from my_dict: cars\n",
    "cars = pd.DataFrame(my_dict) \n",
    "\n",
    "# Definition of row_labels\n",
    "row_labels = ['US', 'AUS', 'JPN', 'IN', 'RU', 'MOR', 'EG']\n",
    "\n",
    "# Specify row labels of cars\n",
    "cars.index = row_labels\n",
    "\n",
    "# Print cars\n",
    "print(cars)\n",
    "\n",
    "\n",
    "### what are all the ways I can # Reorder the columns to put 'Car' as the first column\n",
    "\"\"\"https://g.co/gemini/share/b660cf12502b\"\"\"\n",
    "\n",
    "# Importing Data example\n",
    "cars = pd.read_csv('cars.csv')\n",
    "\n",
    "# Print out cars\n",
    "print(cars)"
   ]
  }
 ],
 "metadata": {
  "kernelspec": {
   "display_name": "myenv",
   "language": "python",
   "name": "python3"
  },
  "language_info": {
   "codemirror_mode": {
    "name": "ipython",
    "version": 3
   },
   "file_extension": ".py",
   "mimetype": "text/x-python",
   "name": "python",
   "nbconvert_exporter": "python",
   "pygments_lexer": "ipython3",
   "version": "3.13.0"
  }
 },
 "nbformat": 4,
 "nbformat_minor": 2
}
