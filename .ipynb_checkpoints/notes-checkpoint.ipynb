{
 "cells": [
  {
   "cell_type": "code",
   "execution_count": null,
   "metadata": {},
   "outputs": [],
   "source": [
    "learned about:\n",
    "iterables"
   ]
  },
  {
   "cell_type": "code",
   "execution_count": 70,
   "metadata": {},
   "outputs": [
    {
     "name": "stdout",
     "output_type": "stream",
     "text": [
      "{'alabania': 4500, 'us': 20000, 'canada': 1590}\n",
      "1\n",
      "{'key': 'oslo', 'key2': 'alabaniaa'}\n",
      "{'oslo': 'norway', '2': '2.2'}\n",
      "{'dic': {'oslo': 'norway', '2': '2.2'}}\n",
      "{0: 'hello', True: 'dear', 'two': 'world'}\n",
      "dict_keys([0, True, 'two'])\n",
      "{0: 'hello', True: 'dear'}\n"
     ]
    }
   ],
   "source": [
    "#Dictionaries: \n",
    "x = [\"alabania\", \"us\", \"canada\"] # dict zipping\n",
    "y = [4500, 20000, 1590]\n",
    "z = zip(x,y)\n",
    "zz = dict(z)\n",
    "print(zz)\n",
    "us = x.index(\"us\")\n",
    "print(us)\n",
    "dic = dict(key = \"oslo\",key2=\"alabaniaa\") # dict =\n",
    "print(dic)\n",
    "dic2 = {\"oslo\":\"norway\",\"2\":\"2.2\"} # : \n",
    "print(dic2) \n",
    "dic3 = dict(dic = dic2)\n",
    "print(dic3)\n",
    "dic4 = {0:\"hello\", True:\"dear\", \"two\":\"world\"} # : \n",
    "print(dic4)\n",
    "0 in dic4\n",
    "print(dic4.keys())\n",
    "del(dic4[\"two\"])\n",
    "print(dic4)\n",
    "\n",
    "#quiz   how do I add to the dictionary???"
   ]
  },
  {
   "cell_type": "code",
   "execution_count": 73,
   "metadata": {},
   "outputs": [
    {
     "name": "stdout",
     "output_type": "stream",
     "text": [
      "{'country': ['Brazil', 'Russia', 'India', 'China', 'South Africa'], 'capital': ['Brasilia', 'Moscow', 'New Delhi', 'Beijing', 'Pretoria'], 'area': [8.516, 17.1, 3.286, 9.597, 1.221], 'population': [200.4, 143.5, 1252, 1357, 52.981]}\n"
     ]
    }
   ],
   "source": [
    "\"\"\" \n",
    "Pandas!\n",
    "• High level data manipulation tool\n",
    "• Wes McKinney\n",
    "• Built on NumPy\n",
    "• Dataframes\n",
    "\"\"\"\n",
    "dict = { #there are two ways values dictiionary\n",
    "\n",
    "\"country\":[\"Brazil\", \"Russia\", \"India\", \"China\", \"South Africa\"],\n",
    "\n",
    "\"capital\":[\"Brasilia\", \"Moscow\", \"New Delhi\", \"Beijing\", \"Pretoria\"],\n",
    "\n",
    "\"area\": [8.516, 17.10, 3.286, 9.597, 1.221],\n",
    "\n",
    "\"population\": [200.4, 143.5, 1252, 1357, 52.981] }\n",
    "print(dict)"
   ]
  },
  {
   "cell_type": "code",
   "execution_count": null,
   "metadata": {},
   "outputs": [],
   "source": []
  },
  {
   "cell_type": "code",
   "execution_count": 75,
   "metadata": {},
   "outputs": [
    {
     "name": "stdout",
     "output_type": "stream",
     "text": [
      "{'country': {'India', 'Brazil', 'South Africa', 'Russia', 'China'}, 'capital': ['Brasilia', 'Moscow', 'New Delhi', 'Beijing', 'Pretoria'], 'area': [8.516, 17.1, 3.286, 9.597, 1.221], 'population': [200.4, 143.5, 1252, 1357, 52.981]}\n"
     ]
    }
   ],
   "source": [
    "# PANDAS\n",
    "\"\"\" \n",
    "• High level data manipulation tool\n",
    "• Wes McKinney\n",
    "• Built on NumPy\n",
    "• Dataframes\n",
    "\"\"\"\n",
    "dict = { #there are two ways values dictiionary\n",
    "\n",
    "\"country\": {\"Brazil\", \"Russia\", \"India\", \"China\", \"South Africa\"}, ### no difference between curly brackets and square brackets???\n",
    "\n",
    "\"capital\":[\"Brasilia\", \"Moscow\", \"New Delhi\", \"Beijing\", \"Pretoria\"],\n",
    "\n",
    "\"area\": [8.516, 17.10, 3.286, 9.597, 1.221],\n",
    "\n",
    "\"population\": [200.4, 143.5, 1252, 1357, 52.981] }\n",
    "print(dict)"
   ]
  },
  {
   "cell_type": "code",
   "execution_count": 77,
   "metadata": {},
   "outputs": [
    {
     "ename": "ModuleNotFoundError",
     "evalue": "No module named 'pandas'",
     "output_type": "error",
     "traceback": [
      "\u001b[0;31m---------------------------------------------------------------------------\u001b[0m",
      "\u001b[0;31mModuleNotFoundError\u001b[0m                       Traceback (most recent call last)",
      "Cell \u001b[0;32mIn[77], line 7\u001b[0m\n\u001b[1;32m      4\u001b[0m cpc \u001b[38;5;241m=\u001b[39m [\u001b[38;5;241m809\u001b[39m, \u001b[38;5;241m731\u001b[39m, \u001b[38;5;241m588\u001b[39m, \u001b[38;5;241m18\u001b[39m, \u001b[38;5;241m200\u001b[39m, \u001b[38;5;241m70\u001b[39m, \u001b[38;5;241m45\u001b[39m]\n\u001b[1;32m      6\u001b[0m \u001b[38;5;66;03m# Import pandas as pd\u001b[39;00m\n\u001b[0;32m----> 7\u001b[0m \u001b[38;5;28;01mimport\u001b[39;00m \u001b[38;5;21;01mpandas\u001b[39;00m \u001b[38;5;28;01mas\u001b[39;00m \u001b[38;5;21;01mpd\u001b[39;00m\n\u001b[1;32m      9\u001b[0m \u001b[38;5;66;03m# Create dictionary my_dict with three key:value pairs: my_dict\u001b[39;00m\n\u001b[1;32m     10\u001b[0m my_dict \u001b[38;5;241m=\u001b[39m {\u001b[38;5;124m'\u001b[39m\u001b[38;5;124mcountry\u001b[39m\u001b[38;5;124m'\u001b[39m:names,\u001b[38;5;124m'\u001b[39m\u001b[38;5;124mdrives_right\u001b[39m\u001b[38;5;124m'\u001b[39m:dr,\u001b[38;5;124m'\u001b[39m\u001b[38;5;124mcars_per_cap\u001b[39m\u001b[38;5;124m'\u001b[39m:cpc}\n",
      "\u001b[0;31mModuleNotFoundError\u001b[0m: No module named 'pandas'"
     ]
    }
   ],
   "source": [
    "# Pre-defined lists\n",
    "names = ['United States', 'Australia', 'Japan', 'India', 'Russia', 'Morocco', 'Egypt']\n",
    "dr =  [True, False, False, False, True, True, True]\n",
    "cpc = [809, 731, 588, 18, 200, 70, 45]\n",
    "\n",
    "# Import pandas as pd\n",
    "import pandas as pd\n",
    "\n",
    "# Create dictionary my_dict with three key:value pairs: my_dict\n",
    "my_dict = {'country':names,'drives_right':dr,'cars_per_cap':cpc}\n",
    "\n",
    "# Build a DataFrame cars from my_dict: cars\n",
    "cars = pd.dataframe(my_dict)\n",
    "\n",
    "# Print cars\n",
    "print(cars)"
   ]
  },
  {
   "cell_type": "code",
   "execution_count": null,
   "metadata": {},
   "outputs": [],
   "source": []
  },
  {
   "cell_type": "code",
   "execution_count": null,
   "metadata": {},
   "outputs": [],
   "source": []
  }
 ],
 "metadata": {
  "kernelspec": {
   "display_name": "Python 3 (ipykernel)",
   "language": "python",
   "name": "python3"
  },
  "language_info": {
   "codemirror_mode": {
    "name": "ipython",
    "version": 3
   },
   "file_extension": ".py",
   "mimetype": "text/x-python",
   "name": "python",
   "nbconvert_exporter": "python",
   "pygments_lexer": "ipython3",
   "version": "3.13.0"
  }
 },
 "nbformat": 4,
 "nbformat_minor": 4
}
