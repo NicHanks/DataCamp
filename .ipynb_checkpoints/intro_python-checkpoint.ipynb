{
 "cells": [
  {
   "cell_type": "code",
   "execution_count": null,
   "metadata": {},
   "outputs": [],
   "source": [
    "# quick test\n",
    "[i * 3 for i in range(5)]\n",
    "#Developer: Reload Window"
   ]
  },
  {
   "cell_type": "code",
   "execution_count": null,
   "metadata": {},
   "outputs": [],
   "source": []
  },
  {
   "cell_type": "code",
   "execution_count": null,
   "metadata": {},
   "outputs": [],
   "source": [
    "To properly set up the IPython kernel for your Jupyter Notebook, you can follow these steps:\n",
    "\n",
    "1. **Ensure IPython is installed**:\n",
    "    Make sure you have IPython installed in your environment. You can install it using pip:\n",
    "    ```bash\n",
    "    pip install ipykernel\n",
    "    ```\n",
    "\n",
    "2. **Restart the Jupyter Notebook server**:\n",
    "    Sometimes, simply restarting the Jupyter Notebook server can resolve the issue.\n",
    "\n",
    "3. **Check kernel configuration**:\n",
    "    Ensure that the kernel configuration is correct. You can create a new kernel using the following command:\n",
    "    ```bash\n",
    "    python -m ipykernel install --user --name=myenv --display-name \"Python (myenv)\"\n",
    "    ```\n",
    "    echo $VIRTUAL_ENV\n",
    "4. **Update Jupyter and IPython**:\n",
    "    Make sure you have the latest versions of Jupyter and IPython:\n",
    "    ```bash\n",
    "    pip install --upgrade jupyter ipykernel\n",
    "    ```\n",
    "\n",
    "If you continue to experience issues, you may need to check the Jupyter Notebook logs for more detailed error messages."
   ]
  },
  {
   "cell_type": "code",
   "execution_count": null,
   "metadata": {},
   "outputs": [],
   "source": [
    "The message \"Ipykernel setup required for this feature\" typically means that the Jupyter Notebook environment requires the IPython kernel to be properly set up in order to execute code cells. The IPython kernel is a core component of Jupyter that allows you to run Python code interactively.\n",
    "\n",
    "To resolve this issue, you can try the following steps:\n",
    "\n",
    "1. **Ensure IPython is installed**:\n",
    "    Make sure you have IPython installed in your environment. You can install it using pip:\n",
    "    ```bash\n",
    "    pip install ipykernel\n",
    "    ```\n",
    "\n",
    "2. **Restart the Jupyter Notebook server**:\n",
    "    Sometimes, simply restarting the Jupyter Notebook server can resolve the issue.\n",
    "\n",
    "3. **Check kernel configuration**:\n",
    "    Ensure that the kernel configuration is correct. You can create a new kernel using the following command:\n",
    "    ```bash\n",
    "    python -m ipykernel install --user --name=myenv --display-name \"Python (myenv)\"\n",
    "    ```\n",
    "    Replace `myenv` with the name of your environment.\n",
    "\n",
    "4. **Update Jupyter and IPython**:\n",
    "    Make sure you have the latest versions of Jupyter and IPython:\n",
    "    ```bash\n",
    "    pip install --upgrade jupyter ipykernel\n",
    "    ```\n",
    "\n",
    "If you continue to experience issues, you may need to check the Jupyter Notebook logs for more detailed error messages."
   ]
  },
  {
   "cell_type": "code",
   "execution_count": null,
   "metadata": {},
   "outputs": [],
   "source": [
    "```bash\n",
    "    pip install ipykernel\n",
    "    ```"
   ]
  },
  {
   "cell_type": "markdown",
   "metadata": {},
   "source": [
    "```bash\n",
    "    pip install ipykernel\n",
    "```"
   ]
  },
  {
   "cell_type": "markdown",
   "metadata": {},
   "source": [
    "# Introduction to Python\n",
    "Run the hidden code cell below to import the data used in this course."
   ]
  },
  {
   "cell_type": "code",
   "execution_count": null,
   "metadata": {},
   "outputs": [],
   "source": [
    "# Importing course packages; you can add more too!\n",
    "import numpy as np\n",
    "import math\n",
    "\n",
    "# Import columns as numpy arrays\n",
    "baseball_names = np.genfromtxt(\n",
    "    fname=\"baseball.csv\",  # This is the filename\n",
    "    delimiter=\",\",  # The file is comma-separated\n",
    "    usecols=0,  # Use the first column\n",
    "    skip_header=1,  # Skip the first line\n",
    "    dtype=str,  # This column contains strings\n",
    ")\n",
    "baseball_heights = np.genfromtxt(\n",
    "    fname=\"baseball.csv\", delimiter=\",\", usecols=3, skip_header=1\n",
    ")\n",
    "baseball_weights = np.genfromtxt(\n",
    "    fname=\"baseball.csv\", delimiter=\",\", usecols=4, skip_header=1\n",
    ")\n",
    "baseball_ages = np.genfromtxt(\n",
    "    fname=\"baseball.csv\", delimiter=\",\", usecols=5, skip_header=1\n",
    ")\n",
    "\n",
    "soccer_names = np.genfromtxt(\n",
    "    fname=\"soccer.csv\",\n",
    "    delimiter=\",\",\n",
    "    usecols=1,\n",
    "    skip_header=1,\n",
    "    dtype=str,\n",
    "    encoding=\"utf\", \n",
    ")\n",
    "soccer_ratings = np.genfromtxt(\n",
    "    fname=\"soccer.csv\",\n",
    "    delimiter=\",\",\n",
    "    usecols=2,\n",
    "    skip_header=1,\n",
    "    encoding=\"utf\", \n",
    ")\n",
    "soccer_positions = np.genfromtxt(\n",
    "    fname=\"soccer.csv\",\n",
    "    delimiter=\",\",\n",
    "    usecols=3,\n",
    "    skip_header=1,\n",
    "    encoding=\"utf\", \n",
    "    dtype=str,\n",
    ")\n",
    "soccer_heights = np.genfromtxt(\n",
    "    fname=\"soccer.csv\",\n",
    "    delimiter=\",\",\n",
    "    usecols=4,\n",
    "    skip_header=1,\n",
    "    encoding=\"utf\", \n",
    ")\n",
    "soccer_shooting = np.genfromtxt(\n",
    "    fname=\"soccer.csv\",\n",
    "    delimiter=\",\",\n",
    "    usecols=8,\n",
    "    skip_header=1,\n",
    "    encoding=\"utf\", \n",
    ")"
   ]
  },
  {
   "cell_type": "markdown",
   "metadata": {},
   "source": []
  },
  {
   "cell_type": "markdown",
   "metadata": {},
   "source": [
    "## Explore Datasets\n",
    "Use the arrays imported in the first cell to explore the data and practice your skills!\n",
    "- Print out the weight of the first ten baseball players. \n",
    "- What is the median weight of all baseball players in the data? \n",
    "- Print out the names of all players with a height greater than 80 (heights are in inches). \n",
    "- Who is taller on average? Baseball players or soccer players? Keep in mind that baseball heights are stored in inches!\n",
    "- The values in `soccer_shooting` are decimals. Convert them to whole numbers (e.g., 0.98 becomes 98).\n",
    "- Do taller players get higher ratings? Calculate the correlation between `soccer_ratings` and `soccer_heights` to find out!\n",
    "- What is the average rating for attacking players (`'A'`)?"
   ]
  },
  {
   "cell_type": "code",
   "execution_count": null,
   "metadata": {},
   "outputs": [],
   "source": [
    "np.array([True, 1, 2]) + np.array([3, 4, False])\n",
    "array([4, 5, 2])"
   ]
  },
  {
   "cell_type": "markdown",
   "metadata": {},
   "source": [
    "can't add different length numpy arrays, and it doesn't matter on the spacing, there will always be a space after teh first element in the arrary that's the output. "
   ]
  },
  {
   "cell_type": "code",
   "execution_count": null,
   "metadata": {},
   "outputs": [],
   "source": [
    "if x = 2 and y != 2\n",
    "if not x=2\n",
    "if x=2 or y=2 \n",
    "# order of precedence of logical operators is not, and, or\n",
    "\"\"\"XOR is a bit wise operation that is used by the ^ operator, for example:\n",
    "x = 1 ^ 0 = 1\n",
    "x = 0 ^ 0 = 0\n",
    "x = 0 ^ 1 = 1\n",
    "x = 1 ^ 1 = 0\n",
    "\"\"\"\n",
    "# ~ tilde\n",
    "\"\"\"This operator flips all the bits of the number, for example, ~(x=2) is -2 \n",
    "so 5 in binary is 0000 0101 \n",
    "and NOT 5 would be 1111 1010\"\"\"\n",
    "# google ~( 2==2 ) Logical NOT with ~"
   ]
  },
  {
   "cell_type": "code",
   "execution_count": null,
   "metadata": {},
   "outputs": [],
   "source": [
    "\"He said, \\\"DataCamp\\\"\" #back slash or escape character creates quotation marks.\n",
    "'He said, \"DataCamp\"'"
   ]
  },
  {
   "cell_type": "markdown",
   "metadata": {},
   "source": [
    "note: it's cool to see how py auto prints it to the console without 'print'"
   ]
  },
  {
   "cell_type": "code",
   "execution_count": null,
   "metadata": {},
   "outputs": [],
   "source": [
    "\"\"\"or\"\"\"\n",
    "print('He said, \"DataCamp\"')"
   ]
  },
  {
   "cell_type": "code",
   "execution_count": null,
   "metadata": {},
   "outputs": [],
   "source": [
    "#split\n",
    "\"beekeepers\".split(\"e\") #split strings on a delimiter. ['b', '', 'k', '', 'p', 'rs'] \n",
    "help(\"\".split)"
   ]
  },
  {
   "cell_type": "markdown",
   "metadata": {},
   "source": [
    "Yes, Plotly is different from Matplotlib. Here are some key differences:\n",
    "\n",
    "1. **Interactivity**:\n",
    "   - **Plotly**: Highly interactive, allowing for zooming, panning, and hovering over data points to see more information.\n",
    "   - **Matplotlib**: Primarily static plots, though interactivity can be added with additional libraries like `mpld3` or `plotly`.\n",
    "\n",
    "2. **Ease of Use**:\n",
    "   - **Plotly**: Often considered easier for creating complex, interactive plots with less code.\n",
    "   - **Matplotlib**: More control over plot customization, but can require more code for complex plots.\n",
    "\n",
    "3. **Output Formats**:\n",
    "   - **Plotly**: Can output to web-based formats (HTML), making it easy to share interactive plots.\n",
    "   - **Matplotlib**: Outputs to static formats like PNG, PDF, SVG, etc.\n",
    "\n",
    "4. **3D Plotting**:\n",
    "   - **Plotly**: Built-in support for 3D plotting.\n",
    "   - **Matplotlib**: 3D plotting is available but requires the `mpl_toolkits.mplot3d` toolkit.\n",
    "\n",
    "5. **Community and Ecosystem**:\n",
    "   - **Plotly**: Has a growing ecosystem with Dash for creating web applications.\n",
    "   - **Matplotlib**: A mature library with a large community and many extensions like `seaborn` for statistical plots.\n",
    "\n",
    "Example of a simple plot in both libraries:\n",
    "\n",
    "**Matplotlib**:\n",
    "```python\n",
    "import matplotlib.pyplot as plt\n",
    "\n",
    "plt.plot([1, 2, 3], [4, 5, 6])\n",
    "plt.title(\"Matplotlib Plot\")\n",
    "plt.show()\n",
    "```\n",
    "\n",
    "**Plotly**:\n",
    "```python\n",
    "import plotly.graph_objects as go\n",
    "\n",
    "fig = go.Figure(data=go.Scatter(x=[1, 2, 3], y=[4, 5, 6]))\n",
    "fig.update_layout(title=\"Plotly Plot\")\n",
    "fig.show()\n",
    "```\n",
    "\n"
   ]
  },
  {
   "cell_type": "code",
   "execution_count": null,
   "metadata": {},
   "outputs": [],
   "source": [
    "import matplotlib.pyplot as plt\n",
    "\n",
    "plt.plot([1, 2, 3], [4, 5, 6])\n",
    "plt.title(\"Matplotlib Plot\")\n",
    "plt.show()\n",
    "\n",
    "import plotly.graph_objects as go\n",
    "\n",
    "fig = go.Figure(data=go.Scatter(x=[1, 2, 3], y=[4, 5, 6]))\n",
    "fig.update_layout(title=\"Plotly Plot\")\n",
    "fig.show()"
   ]
  }
 ],
 "metadata": {
  "kernelspec": {
   "display_name": "Python 3",
   "language": "python",
   "name": "python3"
  },
  "language_info": {
   "name": "python",
   "version": "3.9.6"
  }
 },
 "nbformat": 4,
 "nbformat_minor": 2
}
