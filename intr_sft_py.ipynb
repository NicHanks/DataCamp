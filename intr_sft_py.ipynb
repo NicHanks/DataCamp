{
 "cells": [
  {
   "cell_type": "markdown",
   "metadata": {},
   "source": [
    "#INTRO SOFTWARE PYTHON"
   ]
  },
  {
   "cell_type": "code",
   "execution_count": null,
   "metadata": {},
   "outputs": [],
   "source": [
    "#INTRO SOFTWARE PYTHON\n",
    "#snake case | dfl_lfk\n",
    "#pascal | TheDoor\n",
    "#camel case | yoYoMoma\n",
    "x = \"oygldals\"\n",
    "y = x.replace(\"oy\",\"gg\")"
   ]
  },
  {
   "cell_type": "code",
   "execution_count": null,
   "metadata": {},
   "outputs": [],
   "source": [
    "#are Dict indices case sensitive?\n",
    "playlist = {\"The Weeknd\":\"Blinding Lights\", \"Drake\":\"One Dance\"}\n",
    "print(playlist[\"Drake\"]) #yes puts out KeyError: 'drake'\n",
    "x = {\"Joe\",\"Same\",\"Zekenell\"} # this is a set! type(x) = set | dictionaries use sets\n",
    "#tupeles can be added to, removed, or changed. \n",
    "#can\n",
    "y = (1,2,3)\n",
    "y[0] \n",
    "#can'\n",
    "#x[0] #no go\n",
    "#x[\"Joe\"] #'not indexable'\n",
    "\"James\" > \"Brian\" #True, cuz j is like 25th in alphabet vs 'B'/2 \n",
    "print(min(x))\n"
   ]
  },
  {
   "cell_type": "code",
   "execution_count": null,
   "metadata": {},
   "outputs": [],
   "source": [
    "#zip \n",
    "#enumerate\n",
    "\n",
    "# Packages and modules\n",
    "# • OS\n",
    "# • time\n",
    "# • venv\n",
    "# • pandas\n",
    "# • requests\n",
    "# • numpy"
   ]
  },
  {
   "cell_type": "markdown",
   "metadata": {},
   "source": [
    "#End intro to software python"
   ]
  }
 ],
 "metadata": {
  "kernelspec": {
   "display_name": "myenv",
   "language": "python",
   "name": "python3"
  },
  "language_info": {
   "name": "python",
   "version": "3.13.0"
  }
 },
 "nbformat": 4,
 "nbformat_minor": 2
}
