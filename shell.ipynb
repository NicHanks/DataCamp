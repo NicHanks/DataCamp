{
 "cells": [
  {
   "cell_type": "code",
   "execution_count": null,
   "metadata": {
    "vscode": {
     "languageId": "plaintext"
    }
   },
   "outputs": [],
   "source": [
    "\n",
    "# UNIX commands\n",
    "\n",
    "# pwd\n",
    "# cd\n",
    "# ls\n",
    "# ~ is home (ex: cd ~)\n",
    "# .. back (special paths)\n",
    "# home /home/repl\n",
    "# cd ~/../.\n",
    "# cp origional.txt duplicate.txt #copys origional and pasts it | overwrites it to duplicate\n",
    "# rm \n",
    "# mv\n",
    "# cat #view file's contents \n",
    "# head\n",
    "\n",
    "#You can use cat to print large files and then scroll through the output, but it is usually more convenient to page the output. The original command for doing this was called more, but it has been superseded by a more powerful command called less. (This kind of naming is what passes for humor in the Unix world.) When you less a file, one page is displayed at a time; you can press spacebar to page down or type q to quit.\n",
    "\n",
    "\n",
    "\n",
    "# what is /home/repl/\n",
    "\n",
    "#example\n",
    "$ cp seasonal/summer.txt seasonal/spring.txt backup\n",
    "or\n",
    "$ mv seasonal/summer.csv seasonal/spring.csv backup #moves files to backup\n",
    "$ mv course.txt old-course.txt #renames it (will overwrite if pre-existing)\n",
    "$ mv winter.csv winter.csv.bck #ucan do .csv.bck\n",
    "$ mv seasonal by-season #renames directories\n",
    "$ rm /home/repl/season #error will show\n",
    "$ rmdir /home/repl/season #ifempty -r\n",
    "$ mkdir directory_name years #make \n",
    "$ mkdir ~/yearly #creates yearly in home\n",
    "$ cd /tmp\n",
    "$ ls /tmp\n",
    "$ mv ~/people/agarwal.txt .. .. /tmp/scratch #this moves one file from home/people/agarwal.txt to /tmp/scratch\n",
    "\n"
   ]
  }
 ],
 "metadata": {
  "language_info": {
   "name": "python"
  }
 },
 "nbformat": 4,
 "nbformat_minor": 2
}
