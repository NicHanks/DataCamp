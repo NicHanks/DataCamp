{
 "cells": [
  {
   "cell_type": "code",
   "execution_count": null,
   "metadata": {
    "vscode": {
     "languageId": "plaintext"
    }
   },
   "outputs": [],
   "source": [
    "# pwd\n",
    "# cd\n",
    "# ls\n",
    "# ~ is home (ex: cd ~)\n",
    "# .. back (special paths)\n",
    "# home /home/repl\n",
    "# cd ~/../.\n",
    "# cp origional.txt duplicate.txt #copys origional and pasts it | overwrites it to duplicate\n",
    "# rm \n",
    "# mv\n",
    "\n",
    "# what is /home/repl/\n",
    "\n",
    "#example\n",
    "$ cp seasonal/summer.txt seasonal/spring.txt backup\n",
    "or\n",
    "$ mv seasonal/summer.csv seasonal/spring.csv backup #moves files to backup\n",
    "$ mv course.txt old-course.txt #renames it (will overwrite if pre-existing)\n",
    "$ mv winter.csv winter.csv.bck #ucan do .csv.bck\n",
    "$ mv seasonal by-season #renames directories\n",
    "$ rm /home/repl/season #error will show\n",
    "$ rmdir /home/repl/season #ifempty -r\n",
    "$ mkdir directory_name years #make \n",
    "$ mkdir ~/yearly #creates yearly in home\n",
    "$ cd /tmp\n",
    "$ ls /tmp\n",
    "$ mv ~/people/agarwal.txt .. .. /tmp/scratch #this moves one file from home/people/agarwal.txt to /tmp/scratch\n",
    "\n"
   ]
  }
 ],
 "metadata": {
  "language_info": {
   "name": "python"
  }
 },
 "nbformat": 4,
 "nbformat_minor": 2
}
