{
 "cells": [
  {
   "cell_type": "markdown",
   "metadata": {},
   "source": [
    "### Writing Functions"
   ]
  },
  {
   "cell_type": "code",
   "execution_count": 5,
   "metadata": {},
   "outputs": [],
   "source": [
    "import pandas as pd\n",
    "df = pd.read_csv(\"tweets.csv\")"
   ]
  },
  {
   "cell_type": "code",
   "execution_count": null,
   "metadata": {},
   "outputs": [
    {
     "name": "stdout",
     "output_type": "stream",
     "text": [
      "2 4 6\n"
     ]
    }
   ],
   "source": [
    "# tuples:\n",
    "even_nums = (2, 4, 6) #tuples are imutable\n",
    "a, b, c = even_nums\n",
    "print(a,b,c)\n"
   ]
  },
  {
   "cell_type": "code",
   "execution_count": 10,
   "metadata": {},
   "outputs": [
    {
     "name": "stdout",
     "output_type": "stream",
     "text": [
      "{'en': 1}\n",
      "{'en': 2, 'et': 1}\n",
      "{'en': 19, 'et': 1, 'und': 1}\n",
      "{'en': 97, 'et': 1, 'und': 2}\n"
     ]
    }
   ],
   "source": [
    "# Initialize an empty dictionary: langs_count\n",
    "langs_count = {}\n",
    "\n",
    "# Extract column from DataFrame: col\n",
    "col = df['lang']\n",
    "\n",
    "# Iterate over lang column in DataFrame\n",
    "for entry in col:\n",
    "\n",
    "    # If the language is in langs_count, add 1 \n",
    "    if entry in langs_count.keys():\n",
    "        langs_count[entry] += 1\n",
    "    # Else add the language to langs_count, set the value to 1\n",
    "    else:\n",
    "        langs_count[entry] = 1\n",
    "        print(langs_count)\n",
    "\n",
    "# Print the populated dictionary\n",
    "print(langs_count)"
   ]
  },
  {
   "cell_type": "code",
   "execution_count": null,
   "metadata": {},
   "outputs": [
    {
     "name": "stdout",
     "output_type": "stream",
     "text": [
      "5\n",
      "2\n",
      "6\n",
      "6 3\n",
      "4\n",
      "4\n",
      "2\n"
     ]
    }
   ],
   "source": [
    "# global \n",
    "num = 5\n",
    "print(num)\n",
    "\n",
    "def func1():\n",
    "    num = 2 \n",
    "    print(num)\n",
    "func1()\n",
    "\n",
    "def func2():\n",
    "    global num #global\n",
    "    num = 6\n",
    "    print(num)\n",
    "func2()\n",
    "print(num, end=\" \")\n",
    "\n",
    "x = 2\n",
    "def f():\n",
    "    x =3\n",
    "    def f2():\n",
    "        nonlocal x #nonlocal changes x = 3 and only x = 3\n",
    "        print(x)\n",
    "        x = 4\n",
    "        print(x)\n",
    "    f2()\n",
    "    print(x)\n",
    "f()\n",
    "print(x)\n",
    "\n"
   ]
  },
  {
   "cell_type": "code",
   "execution_count": null,
   "metadata": {},
   "outputs": [
    {
     "name": "stdout",
     "output_type": "stream",
     "text": [
      "1000\n"
     ]
    }
   ],
   "source": [
    "#returning functions\n",
    "\n",
    "def function1(x):\n",
    "    \"\"\" \"\"\"\n",
    "    def function2(n):\n",
    "        ans = n ** x\n",
    "        return ans\n",
    "    return function2\n",
    "#need to find cubed\n",
    "cube = function1(3)\n",
    "print(cube(10))\n"
   ]
  },
  {
   "cell_type": "code",
   "execution_count": 29,
   "metadata": {},
   "outputs": [
    {
     "name": "stdout",
     "output_type": "stream",
     "text": [
      "('a!!!', 'b!!!', 'c!!!')\n"
     ]
    }
   ],
   "source": [
    "# returning functions\n",
    "\n",
    "# Define three_shouts\n",
    "def three_shouts(word1, word2, word3):\n",
    "    \"\"\"Returns a tuple of strings\n",
    "    concatenated with '!!!'.\"\"\"\n",
    "\n",
    "    # Define inner\n",
    "    def inner(word):\n",
    "        \"\"\"Returns a string concatenated with '!!!'.\"\"\"\n",
    "        return word + '!!!'\n",
    "\n",
    "    # Return a tuple of strings\n",
    "    return (inner(word1), inner(word2), inner(word3))\n",
    "\n",
    "# Call three_shouts() and print\n",
    "print(three_shouts('a', 'b', 'c'))"
   ]
  },
  {
   "cell_type": "code",
   "execution_count": null,
   "metadata": {},
   "outputs": [],
   "source": [
    "# returning functions practice:\n",
    "# Define echo\n",
    "def echo(n):\n",
    "    \"\"\"Return the inner_echo function.\"\"\"\n",
    "\n",
    "    # Define inner_echo\n",
    "    def ____(____):\n",
    "        \"\"\"Concatenate n copies of word1.\"\"\"\n",
    "        echo_word = word1 * n\n",
    "        return echo_word\n",
    "\n",
    "    # Return inner_echo\n",
    "    \n",
    "\n",
    "# Call echo: twice\n",
    "twice = echo(2)\n",
    "\n",
    "# Call echo: thrice\n",
    "\n",
    "\n",
    "# Call twice() and thrice() then print\n",
    "print(twice('hello'), thrice('hello'))"
   ]
  },
  {
   "cell_type": "code",
   "execution_count": null,
   "metadata": {},
   "outputs": [],
   "source": [
    "# returning functions answer:\n",
    "# Define echo\n",
    "def echo(n):\n",
    "    \"\"\"Return the inner_echo function.\"\"\"\n",
    "\n",
    "    # Define inner_echo\n",
    "    def inner_echo(word1):\n",
    "        \"\"\"Concatenate n copies of word1.\"\"\"\n",
    "        echo_word = word1 * n\n",
    "        return echo_word\n",
    "\n",
    "    # Return inner_echo\n",
    "    return inner_echo\n",
    "\n",
    "# Call echo: twice\n",
    "twice = echo(2)\n",
    "\n",
    "# Call echo: thrice\n",
    "thrice = echo(3)\n",
    "\n",
    "# Call twice() and thrice() then print\n",
    "print(twice('hello'), thrice('hello'))"
   ]
  },
  {
   "cell_type": "code",
   "execution_count": null,
   "metadata": {},
   "outputs": [
    {
     "name": "stdout",
     "output_type": "stream",
     "text": [
      "9 72 150000000 seconds\n",
      "Okay, now, tell me the name of the cut: \n"
     ]
    }
   ],
   "source": [
    "\n",
    "# MEAT cutting time calculator\n",
    "\n",
    "def create_type_of_slice(time_it_takes_to_slices):\n",
    "    \"\"\"Return a function that can calculate how long it's going to take\"\"\"\n",
    "\n",
    "    # Define inner_echo\n",
    "    def number_of_slices(number_of_slices):\n",
    "        \"\"\"Calculates time it takes to cut\"\"\"\n",
    "        total_time = time_it_takes_to_slices * number_of_slices\n",
    "        return total_time\n",
    "\n",
    "    # Return inner_echo\n",
    "    return number_of_slices\n",
    "\n",
    "# easy cut\n",
    "cut1 = create_type_of_slice(3)\n",
    "\n",
    "# tougher cut to do so it takes more time\n",
    "cut2 = create_type_of_slice(9)\n",
    "\n",
    "# Calculates time to do 3 cuts with a \"cut1\" type\n",
    "print(cut1(3), cut2(8),cut1(50000000),\"seconds\")\n",
    "\n",
    "name_of_cut = input(print(\"Okay, now, tell me the name of the cut: \"))\n",
    "time_to_make_that_cut = int(input(print(\"That's great! Now tell me how long it takes to make that cut: (in seconds) \")))\n",
    "number_of_cuts = int(input(print(\"Now one last thing, how many cuts do you plan to make? \")))\n",
    "users_cut = create_type_of_slice(time_to_make_that_cut)\n",
    "\n",
    "\n",
    "user = create_type_of_slice(name_of_cut)\n",
    "print(f\"Congratulations on using nic's software! to complete {number_of_cuts} {name_of_cut} cuts it would take {str(users_cut(number_of_cuts))} seconds. \")\n",
    "\n",
    "#Next, create a list for the users to pick and choose from | and make sure when they're about to pic, they know how long it takes to make the cut. \n"
   ]
  },
  {
   "cell_type": "code",
   "execution_count": null,
   "metadata": {},
   "outputs": [],
   "source": [
    "name = input(\"What is your name? \")\n",
    "print(\"Hello, \" + name + \"!\")"
   ]
  },
  {
   "cell_type": "code",
   "execution_count": null,
   "metadata": {},
   "outputs": [],
   "source": [
    "#other way of doing it\n",
    "# # Prompt the user to enter the name of the cut\n",
    "name_of_cut = input(\"Okay, now, tell me the name of the cut: \")\n",
    "\n",
    "# Prompt the user to enter the time it takes to make that cut\n",
    "time_to_make_that_cut = int(input(\"That's great! Now tell me how long it takes to make that cut: (in seconds) \"))\n",
    "\n",
    "# Print the entered values\n",
    "print(f\"Name of the cut: {name_of_cut}\")\n",
    "print(f\"Time to make that cut: {time_to_make_that_cut} seconds\")"
   ]
  },
  {
   "cell_type": "code",
   "execution_count": null,
   "metadata": {},
   "outputs": [
    {
     "data": {
      "text/plain": [
       "1"
      ]
     },
     "execution_count": 3,
     "metadata": {},
     "output_type": "execute_result"
    }
   ],
   "source": [
    "# *args\n",
    "def add_all(*args): #\n",
    "    \"\"\"Sum all values in xargs together.\"\"\"\n",
    "    # Initialize sum\n",
    "    sum_all = 0\n",
    "    # Accumulate the sum\n",
    "    for num in args:\n",
    "        sum_all += num\n",
    "    return sum_all\n",
    "add_all(1)\n",
    "\n",
    "# *args in signature, args in for loop"
   ]
  },
  {
   "cell_type": "code",
   "execution_count": null,
   "metadata": {},
   "outputs": [],
   "source": [
    "# **kwargs\n",
    "def print_all(**kwargs): #dictionary\n",
    "    \"\"\"print out key value pairs in **kwargs\"\"\"\n",
    "    for key,data in kwargs.items():\n",
    "        print(key,data)\n",
    "print_all(name=\"Hugo Bowne-Anderson\",employer=\"DataCamp\")"
   ]
  },
  {
   "cell_type": "code",
   "execution_count": null,
   "metadata": {},
   "outputs": [],
   "source": [
    "# tweet\n",
    "\n",
    "# Define count_entries()\n",
    "def count_entries(df, col_name=\"lang\"):\n",
    "    \"\"\"Return a dictionary with counts of\n",
    "    occurrences as value for each key.\"\"\"\n",
    "\n",
    "    # Initialize an empty dictionary: cols_count\n",
    "    cols_count = {}\n",
    "\n",
    "    # Extract column from DataFrame: col\n",
    "    col = df[col_name]\n",
    "    \n",
    "    # Iterate over the column in DataFrame\n",
    "    for entry in col:\n",
    "\n",
    "        # If entry is in cols_count, add 1\n",
    "        if entry in cols_count.keys():\n",
    "            cols_count[entry] += 1\n",
    "\n",
    "        # Else add the entry to cols_count, set the value to 1\n",
    "        else:\n",
    "            cols_count[entry] = 1\n",
    "\n",
    "    # Return the cols_count dictionary\n",
    "    return cols_count\n",
    "\n",
    "# Call count_entries(): result1\n",
    "result1 = count_entries(tweets_df, col_name=\"lang\") #---------------------------\n",
    "\n",
    "# Call count_entries(): result2\n",
    "result2 = count_entries(tweets_df,col_name=\"source\")\n",
    "\n",
    "# Print result1 and result2\n",
    "print(result1)\n",
    "print(result2)"
   ]
  },
  {
   "cell_type": "code",
   "execution_count": null,
   "metadata": {},
   "outputs": [],
   "source": [
    "# !!! \n",
    "fellowship = ['frodo', 'samwise', 'merry', 'pippin', 'aragorn', 'boromir', 'legolas', 'gimli', 'gandalf']\n",
    "# Use filter() to apply a lambda function over fellowship: result\n",
    "result = filter(lambda member: 6<len(member), fellowship) #what the frick does this do?\n",
    "result_list = list(result)\n",
    "print(result_list)"
   ]
  },
  {
   "cell_type": "code",
   "execution_count": null,
   "metadata": {},
   "outputs": [],
   "source": [
    "# !!!\n",
    "from functools import reduce\n",
    "stark = ['robb', 'sansa', 'arya', 'brandon', 'rickon']\n",
    "# Use reduce() to apply a lambda function over stark: result\n",
    "result = reduce(lambda item1, item2 : item1 + item2, stark) # what is reduce? \n",
    "print(result)"
   ]
  },
  {
   "cell_type": "markdown",
   "metadata": {},
   "source": [
    "### intro error handeling"
   ]
  },
  {
   "cell_type": "code",
   "execution_count": null,
   "metadata": {},
   "outputs": [],
   "source": [
    "# except typeerror raise\n",
    "def squareroot(x):\n",
    "    if x < 0:\n",
    "        raise ValueError(\"x must be non-negative\") # this in case -1\n",
    "    try:\n",
    "        return x ** .5\n",
    "    except TypeError:\n",
    "        print(\"x must be an int or float\") # this in case \"hello\""
   ]
  },
  {
   "cell_type": "code",
   "execution_count": null,
   "metadata": {},
   "outputs": [],
   "source": [
    "len(525600)"
   ]
  },
  {
   "cell_type": "code",
   "execution_count": null,
   "metadata": {},
   "outputs": [],
   "source": [
    "# !!!\n",
    "#brush up on anonymous lambda functions as arguments to map(), filter(), and reduce()\n",
    "\n",
    "#an example\n",
    "# Select retweets from the Twitter DataFrame: result\n",
    "result = filter(lambda x : x[0:2] == \"RT\", tweets_df[\"text\"])  # need tweets_df\n",
    "\n",
    "# Create list from filter object result: res_list\n",
    "res_list = list(result)\n",
    "\n",
    "# Print all retweets in res_list\n",
    "for tweet in res_list:\n",
    "    print(tweet)"
   ]
  }
 ],
 "metadata": {
  "kernelspec": {
   "display_name": "Python (myenv)",
   "language": "python",
   "name": "myenv"
  },
  "language_info": {
   "codemirror_mode": {
    "name": "ipython",
    "version": 3
   },
   "file_extension": ".py",
   "mimetype": "text/x-python",
   "name": "python",
   "nbconvert_exporter": "python",
   "pygments_lexer": "ipython3",
   "version": "3.13.0"
  }
 },
 "nbformat": 4,
 "nbformat_minor": 2
}
