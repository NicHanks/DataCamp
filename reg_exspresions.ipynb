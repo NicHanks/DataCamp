{
 "cells": [
  {
   "cell_type": "code",
   "execution_count": null,
   "metadata": {},
   "outputs": [],
   "source": [
    "#PALINDROMES:\n",
    "\n",
    "movie = \"desserts I stressed\"\n",
    "# Get the word\n",
    "movie_title = movie[11:30]\n",
    "# Obtain the palindrome\n",
    "palindrome = movie_title[::-1]\n",
    "# Print the word if it's a palindrome\n",
    "if movie_title == palindrome:\n",
    "\tprint(movie_title)"
   ]
  },
  {
   "cell_type": "code",
   "execution_count": 21,
   "metadata": {},
   "outputs": [
    {
     "name": "stdout",
     "output_type": "stream",
     "text": [
      "['dadadadumppa', 'skeekit']\n"
     ]
    }
   ],
   "source": [
    "#SPLITTING\n",
    "my_string = \"This string will be split\" #\\n \\r \\\"...\\\"\n",
    "s2=my_string.split(sep=\" \", maxsplit=2) #or .rsplit()\n",
    "s = \"dadadadumppa\\nskeekit\"\n",
    "print(s.split()) #splitlines\n",
    "t=my_string.split(\"i\",1)\n",
    "s3 =my_string.join(s2)"
   ]
  },
  {
   "cell_type": "code",
   "execution_count": 41,
   "metadata": {},
   "outputs": [
    {
     "name": "stdout",
     "output_type": "stream",
     "text": [
      "[False  True  True  True  True False  True  True False False False False]\n",
      "[   1 1243    5  425   43 4325]\n",
      "[  22   34    2   34 2342  342]\n",
      "[   1    0    0    0    0 1243    0    0    5  425   43 4325]\n"
     ]
    },
    {
     "data": {
      "text/plain": [
       "numpy.ndarray"
      ]
     },
     "execution_count": 41,
     "metadata": {},
     "output_type": "execute_result"
    }
   ],
   "source": [
    "# how do I create another list of odds out odds & evens, and another list of instead of evens, they're just zeros?\n",
    "import numpy as np\n",
    "x = np.array([1,22,34,2,34,1243,2342,342,5,425,43,4325])\n",
    "boolean_mask = x %2 == 0\n",
    "print(boolean_mask)\n",
    "z = x[boolean_mask]\n",
    "x[boolean_mask] = 0\n",
    "y = x[x%2==1]\n",
    "print(y)\n",
    "print(z)\n",
    "print(x)\n",
    "type(boolean_mask)\n"
   ]
  },
  {
   "cell_type": "code",
   "execution_count": null,
   "metadata": {},
   "outputs": [],
   "source": []
  }
 ],
 "metadata": {
  "kernelspec": {
   "display_name": "myenv",
   "language": "python",
   "name": "python3"
  },
  "language_info": {
   "codemirror_mode": {
    "name": "ipython",
    "version": 3
   },
   "file_extension": ".py",
   "mimetype": "text/x-python",
   "name": "python",
   "nbconvert_exporter": "python",
   "pygments_lexer": "ipython3",
   "version": "3.13.0"
  }
 },
 "nbformat": 4,
 "nbformat_minor": 2
}
