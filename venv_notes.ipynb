{
 "cells": [
  {
   "cell_type": "markdown",
   "metadata": {},
   "source": [
    "### Notes:"
   ]
  },
  {
   "cell_type": "code",
   "execution_count": null,
   "metadata": {},
   "outputs": [],
   "source": [
    "\n",
    "\"\"\"\n",
    "ACTIVATION (VENV)\n",
    "a.k.a notes to pull up my notes\n",
    "\n",
    "if in command line:\n",
    "cd /users/nicholashanks/documents/datacamp/\n",
    "source /users/nicholashanks/documents/datacamp/activate # might be datacamp/myenv/bin/activate\n",
    "or\n",
    "source myenv/bin/activate\n",
    "\n",
    "(to create) python3 -m venv myenv\n",
    "\n",
    "once activate: \n",
    "pip install numpy pandas jupyter notebook ipykernel matplotlib  #(installing dependencies... (use `!pip install pandas` if in jupyter notebooks)\n",
    "\n",
    "register the kernel: (to active venv)\n",
    "(python3 -m ipykernel --user --name something --name-shown \"name (ipykernel)\"  \n",
    "or\n",
    "python3 -m ipykernel install --user --name=myenv --display-name \"Python (myenv)\"\n",
    "\n",
    "\n",
    "*Each file is a course in DataCamp which is then divideded up into sections on page.\n",
    "\"\"\"\n",
    "\n",
    "\"\"\"\n",
    "there is also: pip install ipykernel #python package used to install ipython kernels for different virtual environments\n",
    "~/.local/share/jupyter/kernels # this is where jupyter stores configuratory files.\n",
    "\"\"\""
   ]
  }
 ],
 "metadata": {
  "kernelspec": {
   "display_name": "myenv",
   "language": "python",
   "name": "python3"
  },
  "language_info": {
   "codemirror_mode": {
    "name": "ipython",
    "version": 3
   },
   "file_extension": ".py",
   "mimetype": "text/x-python",
   "name": "python",
   "nbconvert_exporter": "python",
   "pygments_lexer": "ipython3",
   "version": "3.13.0"
  }
 },
 "nbformat": 4,
 "nbformat_minor": 4
}
