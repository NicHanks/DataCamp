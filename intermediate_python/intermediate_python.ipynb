{
 "cells": [
  {
   "cell_type": "markdown",
   "metadata": {},
   "source": [
    "# Intermediate Python\n",
    "- hide cells\n",
    "```\n",
    "Notes:\n",
    "make sure when vs code switch kernel to myenv python3 !!!!\n",
    "```"
   ]
  },
  {
   "cell_type": "code",
   "execution_count": null,
   "metadata": {},
   "outputs": [],
   "source": [
    "# dependencies (imported myenv)\n",
    "import numpy as np\n",
    "import pandas as pd\n",
    "import matplotlib.pyplot as plt\n",
    "\n",
    "bricks = pd.read_csv(\"brics.csv\")\n",
    "gapminder = pd.read_csv(\"datasets/gapminder.csv\")\n",
    "brics = pd.read_csv(\"datasets/brics.csv\")\n",
    "cars = pd.read_csv('cars.csv', index_col=0)\n",
    "\n"
   ]
  },
  {
   "cell_type": "markdown",
   "metadata": {},
   "source": [
    "### Dictionaries"
   ]
  },
  {
   "cell_type": "code",
   "execution_count": null,
   "metadata": {},
   "outputs": [],
   "source": [
    "#Dictionaries: \n",
    "x = [\"alabania\", \"us\", \"canada\"] # dict zipping\n",
    "y = [4500, 20000, 1590]\n",
    "z = zip(x,y)\n",
    "zz = dict(z)\n",
    "print(zz)\n",
    "us = x.index(\"us\")\n",
    "print(us)\n",
    "dic = dict(key = \"oslo\",key2=\"alabaniaa\") # dict =\n",
    "print(dic)\n",
    "dic2 = {\"oslo\":\"norway\",\"2\":\"2.2\"} # : \n",
    "print(dic2) \n",
    "dic3 = dict(dic = dic2)\n",
    "print(dic3)\n",
    "dic4 = {0:\"hello\", True:\"dear\", \"two\":\"world\"} # : \n",
    "print(dic4)\n",
    "0 in dic4\n",
    "print(dic4.keys())\n",
    "del(dic4[\"two\"])\n",
    "print(dic4)\n",
    "\n",
    "#quiz   how do I add to the dictionary???"
   ]
  },
  {
   "cell_type": "code",
   "execution_count": null,
   "metadata": {},
   "outputs": [],
   "source": [
    "dict = { #there are two ways values dictiionary\n",
    "\n",
    "\"country\":[\"Brazil\", \"Russia\", \"India\", \"China\", \"South Africa\"], ### no difference between curly brackets and square brackets???\n",
    "\n",
    "\"capital\":[\"Brasilia\", \"Moscow\", \"New Delhi\", \"Beijing\", \"Pretoria\"],\n",
    "\n",
    "\"area\": [8.516, 17.10, 3.286, 9.597, 1.221],\n",
    "\n",
    "\"population\": [200.4, 143.5, 1252, 1357, 52.981] }\n",
    "print(dict)\n"
   ]
  },
  {
   "cell_type": "markdown",
   "metadata": {},
   "source": [
    "### Pandas"
   ]
  },
  {
   "cell_type": "code",
   "execution_count": null,
   "metadata": {},
   "outputs": [],
   "source": [
    "\"\"\" \n",
    "• High level data manipulation tool\n",
    "• Wes McKinney\n",
    "• Built on NumPy\n",
    "• Dataframes\n",
    "\"\"\"\n",
    "# !pip install pandas #in the actuall jupyter notebooks (!gives acces to terminal)\n",
    "import pandas as pd"
   ]
  },
  {
   "cell_type": "code",
   "execution_count": null,
   "metadata": {},
   "outputs": [],
   "source": [
    "import pandas as pd \n",
    "# Pre-defined lists\n",
    "names = ['United States', 'Australia', 'Japan', 'India', 'Russia', 'Morocco', 'Egypt']\n",
    "dr =  [True, False, False, False, True, True, True]\n",
    "cpc = [809, 731, 588, 18, 200, 70, 45]\n",
    "\n",
    "# Create dictionary my_dict with three key:value pairs: my_dict\n",
    "my_dict = {'country':names,'drives_right':dr,'cars_per_cap':cpc} \n",
    "\n",
    "# Build a DataFrame cars from my_dict: cars\n",
    "cars = pd.DataFrame(my_dict) \n",
    "\n",
    "# Definition of row_labels\n",
    "row_labels = ['US', 'AUS', 'JPN', 'IN', 'RU', 'MOR', 'EG']\n",
    "\n",
    "# Specify row labels of cars\n",
    "cars.index = row_labels\n",
    "\n",
    "# Print cars\n",
    "print(cars)\n",
    "\n",
    "\n",
    "### what are all the ways I can # Reorder the columns to put 'Car' as the first column\n",
    "\"\"\"https://g.co/gemini/share/b660cf12502b\"\"\""
   ]
  },
  {
   "cell_type": "code",
   "execution_count": null,
   "metadata": {},
   "outputs": [
    {
     "name": "stdout",
     "output_type": "stream",
     "text": [
      "     cars_per_cap    country  drives_right\n",
      "AUS           731  Australia         False\n",
      "JAP           588      Japan         False\n",
      "IN             18      India         False\n",
      "<class 'pandas.core.frame.DataFrame'>\n"
     ]
    }
   ],
   "source": [
    "print(cars[1:4]) #prints 3 car rows + index\n",
    "print(type(cars[['country']]))"
   ]
  },
  {
   "cell_type": "code",
   "execution_count": null,
   "metadata": {},
   "outputs": [],
   "source": [
    "###Square brackets: limited functionality\n",
    "# Ideally:\n",
    "# 2D NumPy arrays \n",
    "# my_array[rows, columns]\n",
    "# pandas:\n",
    "# loc (label-based)\n",
    "# iloc (integer position-based)\n",
    "\n",
    "#BRICS\n",
    "brics = pd.read_csv(\"brics.csv\", index_col = 0)\n",
    "print(brics)\n",
    "print()\n",
    "print(brics.loc[[\"RU\"]])\n",
    "print()\n",
    "print(brics.loc[[\"RU\",\"CH\"]])\n",
    "print()\n",
    "print(brics.loc[:, [\"country\", \"capital\"]])\n",
    "print()\n",
    "print(brics.iloc[:, [0]])\n"
   ]
  },
  {
   "cell_type": "code",
   "execution_count": null,
   "metadata": {},
   "outputs": [],
   "source": [
    "print(brics.iloc[:, [0]])"
   ]
  },
  {
   "cell_type": "code",
   "execution_count": null,
   "metadata": {},
   "outputs": [],
   "source": [
    "cars = pd.read_csv(\"cars.csv\")\n",
    "print(cars)\n",
    "\n",
    "#print(cars['country']) # as series\n",
    "print()\n",
    "#print(cars[['country']]) # as df\n",
    "print()\n",
    "#print(cars.loc[:, ['country', 'drives_right']])\n",
    "\n",
    "\n",
    "\n",
    "# print(cars[\"US\"]) #start on index and start on  1 (but has to use str)\n",
    "\n",
    "# print(cars.iloc[3:6]) #.iloc excludes indexes and starts at zero\n",
    "\n"
   ]
  },
  {
   "cell_type": "markdown",
   "metadata": {},
   "source": [
    "##### review"
   ]
  },
  {
   "cell_type": "code",
   "execution_count": null,
   "metadata": {},
   "outputs": [],
   "source": [
    "cars['country']  # Series\n",
    "cars[['country']]  # DataFrame\n",
    "cars[0:3]  # First three rows\n",
    "cars.loc['RU']  # Row for Russia using label\n",
    "cars.iloc[4]  # Row for Russia using index\n",
    "cars.loc[['RU', 'MOR'], ['country', 'drives_right']]  # Specific rows and columns"
   ]
  },
  {
   "cell_type": "markdown",
   "metadata": {},
   "source": [
    "### Comparison Operators, Boolean Operators"
   ]
  },
  {
   "cell_type": "code",
   "execution_count": null,
   "metadata": {},
   "outputs": [
    {
     "data": {
      "text/plain": [
       "True"
      ]
     },
     "execution_count": 7,
     "metadata": {},
     "output_type": "execute_result"
    }
   ],
   "source": [
    "#comparison\n",
    "\"alpha\" <= \"beta\"\n",
    "\n",
    "#boolean\n",
    "1==1 and 2==2 #or not\n",
    "\n",
    "#boolean arrays\n",
    "my_house = np.array([18.0, 20.0, 10.75, 9.50])\n",
    "your_house = np.array([14.0, 24.0, 14.25, 9.0])\n",
    "print(np.logical_or(my_house>18.5, my_house<10)) #_and _not\n",
    "\n",
    "#if elif else\n"
   ]
  },
  {
   "cell_type": "code",
   "execution_count": null,
   "metadata": {},
   "outputs": [],
   "source": [
    "#comparisons pd\n",
    "\n",
    "#  Select the area column\n",
    "#  Do comparison on area column\n",
    "#  Use result to select countries\n",
    "\n",
    "is_huge = brics[\"area\"]>8\n",
    "brics[is_huge] # or brics[brics[\"area\"]>8]\n",
    "print(brics[np.logical_and(brics[\"area\"] > 8, brics[\"area\"] < 10)])\n"
   ]
  },
  {
   "cell_type": "markdown",
   "metadata": {},
   "source": [
    "### Loops"
   ]
  },
  {
   "cell_type": "code",
   "execution_count": null,
   "metadata": {},
   "outputs": [],
   "source": [
    "areas = [11.25, 18.0, 20.0, 10.75, 9.50]\n",
    "\n",
    "# Code the for loop\n",
    "for index, area in enumerate(areas) :\n",
    "    print(\"room \" + str(index+1) + \": \" + str(area))\n",
    "\n",
    "# for a,b in dictionary.items():\n",
    "# for x in np.nditer(): #this is for a 2d array, otherwise it will print out a array a time\n",
    "# for lab,row in brics.iterrows():\n",
    "\n",
    "#brics.loclLab,\n",
    "#\"name_length\" = len(row[\"country\"]) # make sure brics imported as csv(\"brics.csv\",index_col=0)\n",
    "\n",
    "for lab,row in cars.iterrows():\n",
    "    cars.loc[lab, \"COUNTRY\"] = row[\"country\"].upper() # to add a new column element-wise\n",
    "    print(cars)\n",
    "\n",
    "print()\n",
    "cars[\"COUNTRY\"] = cars[\"country\"].apply(str.lower) # this is another way of doing it with the built-in function .apply()\n",
    "print(cars)"
   ]
  },
  {
   "cell_type": "markdown",
   "metadata": {},
   "source": [
    "### Hacker"
   ]
  },
  {
   "cell_type": "code",
   "execution_count": null,
   "metadata": {},
   "outputs": [],
   "source": [
    "np.random.seed(123)\n",
    "print(np.random.rand()) # Generate and print random float\n",
    "np.random.randint(1,7) # six-sided die\n",
    "\n",
    "outcomes = []\n",
    "for x in range (10) :\n",
    "    coin = np. random. randint(0, 2)\n",
    "    if coin == 0 :\n",
    "        outcomes. append (\"heads\")\n",
    "    else :\n",
    "        outcomes. append (\"tails\")\n",
    "#or\n",
    "tails = [0]\n",
    "for x in range (10) :\n",
    "    print(x)\n",
    "    coin = np.random.randint(0, 2)\n",
    "    tails.append(tails[x] + coin)\n",
    "print(tails)"
   ]
  },
  {
   "cell_type": "code",
   "execution_count": null,
   "metadata": {},
   "outputs": [],
   "source": [
    "random_walk = [0]\n",
    "\n",
    "for x in range(100) :\n",
    "    step = random_walk[-1]\n",
    "    dice = np.random.randint(1,7)\n",
    "\n",
    "    if dice <= 2:\n",
    "        step = max(0, step - 1)\n",
    "    elif dice <= 5:\n",
    "        step = step + 1\n",
    "    else:\n",
    "        step = step + np.random.randint(1,7)\n",
    "\n",
    "    random_walk.append(step)\n",
    "\n",
    "plt.plot(random_walk)\n",
    "plt.show()"
   ]
  }
 ],
 "metadata": {
  "kernelspec": {
   "display_name": "myenv",
   "language": "python",
   "name": "python3"
  },
  "language_info": {
   "codemirror_mode": {
    "name": "ipython",
    "version": 3
   },
   "file_extension": ".py",
   "mimetype": "text/x-python",
   "name": "python",
   "nbconvert_exporter": "python",
   "pygments_lexer": "ipython3",
   "version": "3.13.0"
  }
 },
 "nbformat": 4,
 "nbformat_minor": 4
}
