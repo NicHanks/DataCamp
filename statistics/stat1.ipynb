{
 "cells": [
  {
   "cell_type": "code",
   "execution_count": null,
   "metadata": {},
   "outputs": [],
   "source": [
    "#Graphical Exploratory Data Analysis"
   ]
  },
  {
   "cell_type": "code",
   "execution_count": null,
   "metadata": {},
   "outputs": [],
   "source": [
    "#Quantitative Exploritory Data Analysis"
   ]
  },
  {
   "cell_type": "markdown",
   "metadata": {},
   "source": [
    "## Thinking probabilistically- in discrete variables\n"
   ]
  },
  {
   "cell_type": "code",
   "execution_count": null,
   "metadata": {},
   "outputs": [],
   "source": [
    "#Thinking probabilistically- in discrete variables\n",
    "import numpy as np\n",
    "import matplotlib.pyplot as plt\n",
    "#statistical inference: To draw probabilistic conclusions about what we might expect if we collected the same data again.\n",
    "#Why do we use Probability Language? Probabilistic language is not very precise and data are almost never exactly the same when acquired again, and probability allows us to say how much we expect them to vary.\n",
    "#Random Number Generators and Hacker Statistics | Justin Bois/Cal Inst Tech"
   ]
  },
  {
   "cell_type": "code",
   "execution_count": null,
   "metadata": {},
   "outputs": [],
   "source": [
    "#example\n",
    "#Bernoulli Trials | True/False\n",
    "rng = np.random.default_rng(42) #Instantiate random number generator #123=seed=sudo\n",
    "random_numbers = rng.random(size=4) #wut does 4 do\n",
    "random_numbers\n",
    "heads = random_numbers < 5\n",
    "heads\n",
    "np.sum(heads)\n",
    "\n",
    "# 4 coin flips\n",
    "n_all_heads = 0 #init number of 4-heads trials. \n",
    "times = 10000\n",
    "for _ in range(times):\n",
    "    heads = np.random.random(size=4) < 0.5\n",
    "    n_heads = np.sum(heads)\n",
    "    if n_heads == 4:\n",
    "        n_all_heads += 1\n",
    "        \n",
    "r = n_all_heads/times\n",
    "print(f\"This is all your heads divided by number of times ran: {r}\") #he got 0.0607\n"
   ]
  },
  {
   "cell_type": "code",
   "execution_count": null,
   "metadata": {},
   "outputs": [],
   "source": [
    "#worksheet\n",
    "# # Instantiate and seed the random number generator\n",
    "rng = np.random.default_rng(42)\n",
    "\n",
    "# Initialize random numbers: random_numbers\n",
    "random_numbers = np.empty(100000)\n",
    "\n",
    "# Generate random numbers by looping over range(100000)\n",
    "for i in range(100000):\n",
    "    random_numbers[i] = rng.random()\n",
    "\n",
    "# Plot a histogram\n",
    "_ = plt.hist(random_numbers)\n",
    "\n",
    "# Show the plot\n",
    "plt.show()\n"
   ]
  },
  {
   "cell_type": "code",
   "execution_count": null,
   "metadata": {},
   "outputs": [],
   "source": [
    "#worksheet2\n",
    "def perform_bernoulli_trials(n, p):\n",
    "    \"\"\"Perform n Bernoulli trials with success probability p\n",
    "    and return number of successes.\"\"\" #this is called docstring\n",
    "    # Initialize number of successes: n_success\n",
    "    n_success = 0\n",
    "\n",
    "    # Perform trials\n",
    "    for i in range(n):\n",
    "        # Choose random number between zero and one: random_number\n",
    "        random_number = rng.random()\n",
    "\n",
    "        # If less than p, it's a success so add one to n_success\n",
    "        if random_number < p:\n",
    "            n_success+=1\n",
    "\n",
    "    return n_success"
   ]
  },
  {
   "cell_type": "code",
   "execution_count": null,
   "metadata": {},
   "outputs": [],
   "source": [
    "#worksheet3\n",
    "# Instantiate and seed random number generator\n",
    "rng = np.random.default_rng(42)\n",
    "\n",
    "# Initialize the number of defaults: n_defaults\n",
    "n_defaults = np.empty(1000)\n",
    "\n",
    "# Compute the number of defaults\n",
    "for i in range(len(n_defaults)):\n",
    "    n_defaults[i] = perform_bernoulli_trials(100, 0.05)\n",
    "\n",
    "\n",
    "# Plot the histogram with default number of bins; label your axes\n",
    "_ = plt.hist(n_defaults, density=True)\n",
    "_ = plt.xlabel('number of defaults out of 100 loans')\n",
    "_ = plt.ylabel('probability')\n",
    "\n",
    "# Show the plot\n",
    "plt.show()"
   ]
  },
  {
   "cell_type": "code",
   "execution_count": null,
   "metadata": {},
   "outputs": [],
   "source": [
    "#worksheet4\n",
    "# Compute ECDF: x, y\n",
    "x, y = ecdf(n_defaults)\n",
    "\n",
    "# Plot the ECDF with labeled axes\n",
    "plt.plot(x,y,marker='.',linestyle='none')\n",
    "plt.xlabel('number of defaults out of 100')\n",
    "plt.ylabel(\"CDF\")\n",
    "\n",
    "# Show the plot\n",
    "plt.show()\n",
    "\n",
    "# Compute the number of 100-loan simulations with 10 or more defaults: n_lose_money\n",
    "n_lose_money = np.sum(n_defaults>=10)\n",
    "\n",
    "# Compute and print probability of losing money\n",
    "print('Probability of losing money =', n_lose_money / len(n_defaults))\n"
   ]
  },
  {
   "cell_type": "code",
   "execution_count": 64,
   "metadata": {},
   "outputs": [
    {
     "name": "stdout",
     "output_type": "stream",
     "text": [
      "[ 7  6  7 ... 11  4  5]\n"
     ]
    }
   ],
   "source": [
    "#Probability distributions and stories: The Binomial distribution\n",
    "#PMF probablility mass function | the set of probabilities of discrete outcomes\n",
    "#Discrete Uniform PMF (like rolling a dye)\n",
    "\n",
    "#Binomial Distributions: the story\n",
    "# * The number r of successes in B Burnoulli trials with p probablity of success, is Binomially distributed.\n",
    "# * The number of r of heads in 4 coin flips with probability .5 of heads, is Binomially distributed\n",
    "rng.binomial(4, 0.5, size=10) # [0.2,0.34,0.56,0.23] = [F,F,T,F] = [1,x,x,x,x,x,x,x,x,x] \n",
    "samples = rng.binomial(60, 0.1, size=10000)\n",
    "n = 60\n",
    "p = 0.1\n",
    "print(samples)\n",
    "\n"
   ]
  }
 ],
 "metadata": {
  "kernelspec": {
   "display_name": "myenv",
   "language": "python",
   "name": "python3"
  },
  "language_info": {
   "codemirror_mode": {
    "name": "ipython",
    "version": 3
   },
   "file_extension": ".py",
   "mimetype": "text/x-python",
   "name": "python",
   "nbconvert_exporter": "python",
   "pygments_lexer": "ipython3",
   "version": "3.13.0"
  }
 },
 "nbformat": 4,
 "nbformat_minor": 2
}
